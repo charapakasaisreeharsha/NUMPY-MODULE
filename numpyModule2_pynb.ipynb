{
  "nbformat": 4,
  "nbformat_minor": 0,
  "metadata": {
    "colab": {
      "provenance": [],
      "authorship_tag": "ABX9TyNW1Z3hJ5GijaGNsyrDIF61",
      "include_colab_link": true
    },
    "kernelspec": {
      "name": "python3",
      "display_name": "Python 3"
    },
    "language_info": {
      "name": "python"
    }
  },
  "cells": [
    {
      "cell_type": "markdown",
      "metadata": {
        "id": "view-in-github",
        "colab_type": "text"
      },
      "source": [
        "<a href=\"https://colab.research.google.com/github/charapakasaisreeharsha/NUMPY-MODULE/blob/main/numpyModule2_pynb.ipynb\" target=\"_parent\"><img src=\"https://colab.research.google.com/assets/colab-badge.svg\" alt=\"Open In Colab\"/></a>"
      ]
    },
    {
      "cell_type": "code",
      "execution_count": null,
      "metadata": {
        "colab": {
          "base_uri": "https://localhost:8080/"
        },
        "id": "9JCgQpUnTSlF",
        "outputId": "06b8238e-cc38-4852-e89c-ac422fe8f1d3"
      },
      "outputs": [
        {
          "output_type": "stream",
          "name": "stdout",
          "text": [
            "1\n",
            "2\n",
            "5\n"
          ]
        }
      ],
      "source": [
        "import numpy as np\n",
        "# numpy Array using ndexing\n",
        "#individual aceesing in numpy\n",
        "array1=np.array([1,2,3,4,5])\n",
        "print(array1[0]) # prints 1\n",
        "print(array1[1]) # prints 2\n",
        "print(array1[4]) # prints 5"
      ]
    },
    {
      "cell_type": "code",
      "source": [
        "# we can use index to change the values\n",
        "array1[0]=9\n",
        "print('after modifing:',array1) # '1' got replaced by '9'"
      ],
      "metadata": {
        "colab": {
          "base_uri": "https://localhost:8080/"
        },
        "id": "oDhzVg6qU_7k",
        "outputId": "0dfa362d-d2b1-4e17-92d9-1e5ac86f7442"
      },
      "execution_count": null,
      "outputs": [
        {
          "output_type": "stream",
          "name": "stdout",
          "text": [
            "after modifing: [9 2 3 4 5]\n"
          ]
        }
      ]
    },
    {
      "cell_type": "code",
      "source": [
        "# numpy also allows negative indexing\n",
        "print(array1[-1]) # last element\n",
        "# modify using negative index\n",
        "array1[-1]=8 # '5' get replaced by '8'\n",
        "print('after modifing:',array1)\n"
      ],
      "metadata": {
        "colab": {
          "base_uri": "https://localhost:8080/"
        },
        "id": "XlVlSDQZWmCM",
        "outputId": "f16765be-cbbd-4f71-85d8-7bfba3fd660c"
      },
      "execution_count": null,
      "outputs": [
        {
          "output_type": "stream",
          "name": "stdout",
          "text": [
            "5\n",
            "after modifing: [9 2 3 4 8]\n"
          ]
        }
      ]
    },
    {
      "cell_type": "code",
      "source": [
        "# array indexing in 2D array & 3D array\n",
        "array2=np.array([[1,9,3,4],\n",
        "                [1,0,3,4],\n",
        "                [1,8,3,4]])\n",
        "print(array2)\n",
        "array2[2,1]  #returns 8  'INDEXING STARTS FROM '0'remember it!\n"
      ],
      "metadata": {
        "colab": {
          "base_uri": "https://localhost:8080/"
        },
        "id": "8w6nE50BXm3i",
        "outputId": "87d40e67-6f12-4477-b975-e170b79eb53c"
      },
      "execution_count": null,
      "outputs": [
        {
          "output_type": "stream",
          "name": "stdout",
          "text": [
            "[[1 9 3 4]\n",
            " [1 0 3 4]\n",
            " [1 8 3 4]]\n"
          ]
        },
        {
          "output_type": "execute_result",
          "data": {
            "text/plain": [
              "array([[1, 9, 3, 4]])"
            ]
          },
          "metadata": {},
          "execution_count": 19
        }
      ]
    },
    {
      "cell_type": "code",
      "source": [
        "r1=array2[2,:]  # returns whole second row\n",
        "print('SECOND ROW:',r1)"
      ],
      "metadata": {
        "colab": {
          "base_uri": "https://localhost:8080/"
        },
        "id": "07GWJBj9aV5Y",
        "outputId": "53b95973-873e-467d-e4e2-3e53647d5a41"
      },
      "execution_count": null,
      "outputs": [
        {
          "output_type": "stream",
          "name": "stdout",
          "text": [
            "SECOND ROW: [1 8 3 4]\n"
          ]
        }
      ]
    },
    {
      "cell_type": "code",
      "source": [
        "r2=array2[:,1] # return second coulumn\n",
        "print('SECOND COULMN:',r2)"
      ],
      "metadata": {
        "colab": {
          "base_uri": "https://localhost:8080/"
        },
        "id": "PNsGLyjyeYRS",
        "outputId": "758cad50-008e-40d1-91b0-3188e35f53a8"
      },
      "execution_count": null,
      "outputs": [
        {
          "output_type": "stream",
          "name": "stdout",
          "text": [
            "SECOND COULMN: [9 0 8]\n"
          ]
        }
      ]
    },
    {
      "cell_type": "code",
      "source": [
        "# 3D-array indexing\n",
        "import numpy as np\n",
        "array3=np.array([[[1,2,3,4],\n",
        "                [5,6,7,8],\n",
        "                [9,0,1,2]],\n",
        "\n",
        "                [[1,2,3,4],\n",
        "                [5,6,7,8],\n",
        "                [8,9,0,4]]])\n",
        "\n",
        "element=array3[1,2,1] #first in indexing sense '1'-->2D matrix; '2'-->row ; '1-->coulmn\n",
        "print(element)\n"
      ],
      "metadata": {
        "id": "eqj95BoferIG",
        "colab": {
          "base_uri": "https://localhost:8080/"
        },
        "outputId": "2c94a10b-5b7e-4d24-ef38-f198878f1894"
      },
      "execution_count": null,
      "outputs": [
        {
          "output_type": "stream",
          "name": "stdout",
          "text": [
            "9\n"
          ]
        }
      ]
    },
    {
      "cell_type": "code",
      "source": [
        "#numpy array slicing\n",
        "'''With slicing, we can easily access elements in the array,\n",
        "Array Slicing is the process of extracting a portion of an array.'''\n",
        "import numpy as np\n",
        "\n",
        "# syntax: array[start:stop:step]\n",
        "# start-->index of the first elemnet to be included in the slice.\n",
        "# stop--> index of the last element.\n",
        "# step--> step step size btwn each element more like diffrence!\n",
        "# 1D-slicing array slicing\n",
        "array4=np.array([1,2,3,4,5,6,7,8,9,0,11,12,13,14,15])\n",
        "print(array4[1:6]) #from index 1 to index 6\n",
        "print(array4[1:10:2]) #from index 1 to 10 with diff of 2\n",
        "print(array4[3:]) #from index 3 to last\n",
        "print(array4[:]) #returns all the elements\n"
      ],
      "metadata": {
        "id": "zDUgg1iaiBiS",
        "colab": {
          "base_uri": "https://localhost:8080/"
        },
        "outputId": "8f0db2df-73d9-400e-dbd3-09b64a393a91"
      },
      "execution_count": null,
      "outputs": [
        {
          "output_type": "stream",
          "name": "stdout",
          "text": [
            "[2 3 4 5 6]\n",
            "[2 4 6 8 0]\n",
            "[ 4  5  6  7  8  9  0 11 12 13 14 15]\n",
            "[ 1  2  3  4  5  6  7  8  9  0 11 12 13 14 15]\n"
          ]
        }
      ]
    },
    {
      "cell_type": "code",
      "source": [
        "# using start,stop,step parametr to modify elemnets\n",
        "num=np.array([1,2,3,4,5,6,7,8,9,0,11,12,13,14,15,16,17,18])\n",
        "num[3:]=0 #from index 3 all elemenst modified into 0\n",
        "print(num)\n",
        "num1=num[:5] #before index 5  element modify into w\n",
        "print(num1)\n",
        "num[2:10]=6 # from 2 to 10 elemnst will be 6\n",
        "print(num[2:10]) # modify with 6 in btwn 2&10\n",
        "num[1:11:1]=2 #skip step 2 and modify into 2\n",
        "print(num[1:11:1])"
      ],
      "metadata": {
        "colab": {
          "base_uri": "https://localhost:8080/"
        },
        "id": "bk6Kxb0uv9En",
        "outputId": "e38e41bc-d2a0-49dd-863b-5ea19210b9ff"
      },
      "execution_count": null,
      "outputs": [
        {
          "output_type": "stream",
          "name": "stdout",
          "text": [
            "[1 2 3 0 0 0 0 0 0 0 0 0 0 0 0 0 0 0]\n",
            "[1 2 3 0 0]\n",
            "[6 6 6 6 6 6 6 6]\n",
            "[2 2 2 2 2 2 2 2 2 2]\n"
          ]
        }
      ]
    },
    {
      "cell_type": "code",
      "source": [
        "# ARRAY NEGATIVE SLICING\n",
        "import numpy as np\n",
        "arr=np.array([1,2,3,4,5,6,7,8,9])\n",
        "print(arr)\n",
        "print(arr[-4:]) # NOTE: if you want [from:to] give index in reverse!\n",
        "print(arr[-4:-1])  # after -1 to -3\n",
        "print(arr[-1::-2]) # :: REVERSING THE ARRAY ORDER!"
      ],
      "metadata": {
        "colab": {
          "base_uri": "https://localhost:8080/"
        },
        "id": "ySQIXDF-1nIL",
        "outputId": "e125cd19-e431-43a2-b5bf-82298789a3d0"
      },
      "execution_count": null,
      "outputs": [
        {
          "output_type": "stream",
          "name": "stdout",
          "text": [
            "[1 2 3 4 5 6 7 8 9]\n",
            "[6 7 8 9]\n",
            "[6 7 8]\n",
            "[9 7 5 3 1]\n"
          ]
        }
      ]
    },
    {
      "cell_type": "code",
      "source": [
        "# REVERSING numpy using negative slicing\n",
        "import numpy as np\n",
        "rev=np.array([1,2,3,4,5,6,9,8,7])\n",
        "rev_num=rev[::-1]# reverse the array!\n",
        "print(rev_num)\n",
        "# 2D array slicing\n",
        "# SYNTAX-->array[row_start:row_stop:row_step,col_start:colz-stop:col_step]\n",
        "first=np.array([[1,2,3,4],\n",
        "                [6,7,8,9],\n",
        "                [4,5,7,8]])\n",
        "print(first)\n",
        "print(first[:3,:3])\n",
        "# dividing sub-arrays\n",
        "print('sub-array1--> \\n' ,first[1:3,1:3])\n",
        "print('sun-array2--> \\n', first[:2,:2])\n"
      ],
      "metadata": {
        "colab": {
          "base_uri": "https://localhost:8080/"
        },
        "id": "gYozNHzR7STm",
        "outputId": "d74076ea-20cb-465f-f4dd-9f769c1febc3"
      },
      "execution_count": null,
      "outputs": [
        {
          "output_type": "stream",
          "name": "stdout",
          "text": [
            "[7 8 9 6 5 4 3 2 1]\n",
            "[[1 2 3 4]\n",
            " [6 7 8 9]\n",
            " [4 5 7 8]]\n",
            "[[1 2 3]\n",
            " [6 7 8]\n",
            " [4 5 7]]\n",
            "sub-array1--> \n",
            " [[7 8]\n",
            " [5 7]]\n",
            "sun-array2--> \n",
            " [[1 2]\n",
            " [6 7]]\n"
          ]
        }
      ]
    },
    {
      "cell_type": "code",
      "source": [
        "# array Reshaping\n",
        "'Reshaping the array without changing its data'\n",
        "# Synatx-->np.reshape(array,newshape,order='C')\n",
        "import numpy as np\n",
        "array5=np.array([1,2,3,4,5,6,7,8,9,0])\n",
        "print(array5)\n",
        "result=np.reshape(array5,(2, 5)) #reshape()-->function used! WHERE (2,5) 2-->rows,5-->coulumns!\n",
        "print(result)\n",
        "'''NOTE: BASED ON NO.OF.ELEMENTS SPLITTING, IT MUST BE EQUALLY FILLED\n",
        "LIKE A MATRIX, HALF AASSED MATRIX CANNOT BE MADE. MUST INVOLVE EVERY ELEMENT '''\n",
        "# Reshaping array 1D to 2D!\n",
        "array6=np.array([1,9,4,2,6,8,3,5])\n",
        "res=np.reshape(array6,(4,2)) # reshapping into 4 rows and 2 coulumns\n",
        "print(res)\n",
        "# Reshaping array 1D to 3D!\n",
        "res=np.reshape(array6,(2,2,2)) # 2 rows and 2 coulumn and 2 layers\n",
        "print(res)"
      ],
      "metadata": {
        "colab": {
          "base_uri": "https://localhost:8080/"
        },
        "id": "kJaIXIMy-bZe",
        "outputId": "97a78515-6f90-45e1-ac48-c825cf3a4ef5"
      },
      "execution_count": null,
      "outputs": [
        {
          "output_type": "stream",
          "name": "stdout",
          "text": [
            "[1 2 3 4 5 6 7 8 9 0]\n",
            "[[1 2 3 4 5]\n",
            " [6 7 8 9 0]]\n",
            "[[1 9]\n",
            " [4 2]\n",
            " [6 8]\n",
            " [3 5]]\n",
            "[[[1 9]\n",
            "  [4 2]]\n",
            "\n",
            " [[6 8]\n",
            "  [3 5]]]\n"
          ]
        }
      ]
    },
    {
      "cell_type": "code",
      "source": [
        "# Reshaping N-D array to 1D array\n",
        "array7=np.array([[1,3],[5,7],[8,4]])\n",
        "result2=np.reshape(array7, -1)\n",
        "print(result2) #same for any N-D arrays!"
      ],
      "metadata": {
        "colab": {
          "base_uri": "https://localhost:8080/"
        },
        "id": "UEzIDWapFl5w",
        "outputId": "bf809ca3-a550-4af2-db8c-a68149313b89"
      },
      "execution_count": null,
      "outputs": [
        {
          "output_type": "stream",
          "name": "stdout",
          "text": [
            "[1 3 5 7 8 4]\n"
          ]
        }
      ]
    },
    {
      "cell_type": "code",
      "source": [
        "# NumPy Arithmetic Array Operations\n",
        "f_array=np.array([1,2,3])\n",
        "s_array=np.array([4,5,6])\n",
        "result1= f_array + s_array #add using operator '+'\n",
        "result2= np.add(f_array,s_array) #add using function()-->'add()'\n",
        "print(result1)\n",
        "print(result2)\n",
        "result3=f_array- s_array  #sub using operator '-'\n",
        "result4=np.subtract(f_array ,s_array ) #sub using function()\n",
        "print(result3)\n",
        "print(result4)\n",
        "result5=f_array* s_array # multiply using opertor\n",
        "result6=np.multiply(f_array,s_array) # multiply using funct()\n",
        "print(result5)\n",
        "print(result6)\n",
        "result7=f_array/s_array #division using opertor\n",
        "result8=np.divide(f_array,s_array)#division using func()\n",
        "print(result7)\n",
        "print(result8)\n",
        "result9=f_array**2 #power using opertor **\n",
        "result10=np.power(f_array,2) #power using func()\n",
        "print(result9)\n",
        "print(result10)"
      ],
      "metadata": {
        "colab": {
          "base_uri": "https://localhost:8080/"
        },
        "id": "PbOE0R3QI5wz",
        "outputId": "a220a091-77cd-42b8-824a-35a9a6d27831"
      },
      "execution_count": null,
      "outputs": [
        {
          "output_type": "stream",
          "name": "stdout",
          "text": [
            "[5 7 9]\n",
            "[5 7 9]\n",
            "[-3 -3 -3]\n",
            "[-3 -3 -3]\n",
            "[ 4 10 18]\n",
            "[ 4 10 18]\n",
            "[0.25 0.4  0.5 ]\n",
            "[0.25 0.4  0.5 ]\n",
            "[1 4 9]\n",
            "[1 4 9]\n"
          ]
        }
      ]
    },
    {
      "cell_type": "code",
      "source": [
        "# NumPy Array Statistical Functions\n",
        "'''These statistical functions are useful to find basic statistical concepts\n",
        " like mean, median, variance, etc. It is also used to find the maximum or the\n",
        "minimum element in an array.'''\n",
        "import numpy as np\n",
        "marks=np.array([1,2,3,4,5])\n",
        "\n",
        "mean_marks=np.mean(marks)\n",
        "print('mean:',mean_marks) # MEAN...\n",
        "\n",
        "median_marks=np.median(marks)\n",
        "print('Median:',median_marks) #MEDIAN..\n",
        "\n",
        "min_marks=np.min(marks)\n",
        "print('minimum:',min_marks) #MINIMUM\n",
        "\n",
        "max_marks=np.max(marks)\n",
        "print('maximum:',max_marks) #MAXIMUM\n",
        "\n",
        "std_marks=np.std(marks)\n",
        "print('standard division:',std_marks) #Standard Deviation\n",
        "\n",
        "per_marks=np.percentile(marks,50) # 50% of of array is lees than 3 element\n",
        "print('percentile',per_marks)\n",
        "\n"
      ],
      "metadata": {
        "colab": {
          "base_uri": "https://localhost:8080/"
        },
        "id": "yk4R8gP3Qyzg",
        "outputId": "7b5b3dcf-a4be-4bef-dc02-6064d9cbb2d1"
      },
      "execution_count": null,
      "outputs": [
        {
          "output_type": "stream",
          "name": "stdout",
          "text": [
            "mean: 3.0\n",
            "Median: 3.0\n",
            "minimum: 1\n",
            "maximum: 5\n",
            "standard division: 1.4142135623730951\n",
            "percentile 3.0\n"
          ]
        }
      ]
    },
    {
      "cell_type": "code",
      "source": [
        "'''Calculation is not just limited to 1D array. We can also\n",
        "calculate the 2D array.'''\n",
        "# axis=0-->Vertical axis\n",
        "# axis=1-->Horiontal axis\n",
        "import numpy as np\n",
        "marks = np.array([[2, 4, 6],\n",
        "                  [8, 10, 12],\n",
        "                  [14, 16, 18]])\n",
        "mean_marks=np.mean(marks)\n",
        "print('mean:',mean_marks) # MEAN...\n",
        "mean_marks_axis=np.mean(marks,axis=1) # Mean of the horizonta axis\n",
        "print(\"only applied for axix=1 :\",mean_marks_axis)\n",
        "\n",
        "# We can also apply using axis=0 try it yourself b**h!\n",
        "\n",
        "median_marks=np.median(marks)\n",
        "print('Median:',median_marks) #MEDIAN..\n",
        "\n",
        "min_marks=np.min(marks)\n",
        "print('minimum:',min_marks) #MINIMUM...\n",
        "\n",
        "max_marks=np.max(marks)\n",
        "print('maximum:',max_marks) #MAXIMUM...\n",
        "\n",
        "std_marks=np.std(marks)\n",
        "print('standard division:',std_marks) #Standard Deviation\n"
      ],
      "metadata": {
        "colab": {
          "base_uri": "https://localhost:8080/"
        },
        "id": "SSO8cldoSq-L",
        "outputId": "bc601a30-6322-43cd-97af-88ed1875e3c9"
      },
      "execution_count": null,
      "outputs": [
        {
          "output_type": "stream",
          "name": "stdout",
          "text": [
            "mean: 10.0\n",
            "only applied for axix=1 : [ 4. 10. 16.]\n",
            "Median: 10.0\n",
            "minimum: 2\n",
            "maximum: 18\n",
            "standard division: 5.163977794943222\n"
          ]
        }
      ]
    },
    {
      "cell_type": "code",
      "source": [
        "# Numpy Comparison/Logical Operations\n",
        "# Comparasion Operators-->  < , >, <=, >=, ==, !=\n",
        "import numpy as np\n",
        "arr1=np.array([1,2,3])\n",
        "arr2=np.array([4,2,6])\n",
        "resul=arr1<arr2\n",
        "print('arr1 < arr2:', resul)\n",
        "\n",
        "resul2=arr1>arr2\n",
        "print('arr1 > arr2:',resul2)\n",
        "\n",
        "resul3=arr1==arr2\n",
        "print('arr1 == arr2:',resul3)\n",
        "'''check others too by yourself'''\n",
        "\n",
        "# Comparision Functions -->\n",
        "# less(),less_equal(),greater(),greater_equal(),equal(),not_equal()\n",
        "\n",
        "result=np.less(arr1,arr2)\n",
        "print('using less()-->',result)\n",
        "\n",
        "result2=np.less_equal(arr1,arr2)\n",
        "print('using less_equally()-->',result2)\n",
        "\n",
        "result3=np.greater(arr1,arr2)\n",
        "print('using greater()-->',result3)\n",
        "\n",
        "result4=np.greater_equal(arr1,arr2)\n",
        "print('using greater_equally()-->',result4)\n",
        "\n",
        "result5=np.equal(arr1,arr2)\n",
        "print('using equal()-->',result5)\n",
        "\n",
        "result6=np.not_equal(arr1,arr2)\n",
        "print('using not_equal-->',result6)\n"
      ],
      "metadata": {
        "id": "KHjI8Vy5bZrw",
        "colab": {
          "base_uri": "https://localhost:8080/"
        },
        "outputId": "13c137e3-915a-4d04-f5db-2086beb8230e"
      },
      "execution_count": null,
      "outputs": [
        {
          "output_type": "stream",
          "name": "stdout",
          "text": [
            "arr1 < arr2: [ True False  True]\n",
            "arr1 > arr2: [False False False]\n",
            "arr1 == arr2: [False  True False]\n",
            "using less()--> [ True False  True]\n",
            "using less_equally()--> [ True  True  True]\n",
            "using greater()--> [False False False]\n",
            "using greater_equally()--> [False  True False]\n",
            "using equal()--> [False  True False]\n",
            "using not_equal--> [ True False  True]\n"
          ]
        }
      ]
    },
    {
      "cell_type": "code",
      "source": [
        "#Logical Operators\n",
        "'''Logical operators perform Boolean algebra; a branch of algebra that deals with\n",
        " True and False statements'''\n",
        "#logical_and , logical_or , logical_not\n",
        "import numpy as np\n",
        "x1=np.array([True,False,True])\n",
        "x2=np.array([True,False,True])\n",
        "print(np.logical_and(x1,x2)) # means evokes AND operator\n",
        "print(np.logical_or(x1,x2)) # means evokes OR operator\n",
        "print(np.logical_not(x1,x2)) # means evokes NOT operator\n"
      ],
      "metadata": {
        "id": "LfzXCbDOP6up",
        "colab": {
          "base_uri": "https://localhost:8080/"
        },
        "outputId": "80b81ade-34c6-4a0b-8f07-8cb3100836af"
      },
      "execution_count": null,
      "outputs": [
        {
          "output_type": "stream",
          "name": "stdout",
          "text": [
            "[ True False  True]\n",
            "[ True False  True]\n",
            "[False  True False]\n"
          ]
        }
      ]
    },
    {
      "cell_type": "code",
      "source": [
        "from IPython.core.debugger import coloransi\n",
        "#NUMPY math functions includes\n",
        "# Trignometric , Arithematic , Rounding Functions\n",
        "#Trignometric Functions\n",
        "import numpy as np\n",
        "angles=np.array([0 , 1 ,2])\n",
        "print('Angles :',angles)\n",
        "\n",
        "sin = np.sin(angles) #computes sin angles\n",
        "print('sin angles:',sin)\n",
        "\n",
        "inv_sin=np.arcsin(angles) #compute inverse sin angles\n",
        "print('Inverse sin:',inv_sin)\n",
        "\n",
        "#-->We can also apply for other trignometric ratios\n"
      ],
      "metadata": {
        "colab": {
          "base_uri": "https://localhost:8080/"
        },
        "id": "rA1-QY4cNSIP",
        "outputId": "f1cc65f9-3c3b-452d-c05b-4320bcab71f3"
      },
      "execution_count": null,
      "outputs": [
        {
          "output_type": "stream",
          "name": "stdout",
          "text": [
            "Angles : [0 1 2]\n",
            "sin angles: [0.         0.84147098 0.90929743]\n",
            "Inverse sin: [0.         1.57079633        nan]\n",
            "Initial angle in radius: 1.57079393\n",
            "Angle in degree: 89.99986267376806\n",
            "Angle in radian afetr conversion: 1.57079393\n"
          ]
        },
        {
          "output_type": "stream",
          "name": "stderr",
          "text": [
            "<ipython-input-6-bfeefa6f619a>:12: RuntimeWarning: invalid value encountered in arcsin\n",
            "  inv_sin=np.arcsin(angles) #compute inverse sin angles\n"
          ]
        }
      ]
    },
    {
      "cell_type": "code",
      "source": [
        "import numpy as np\n",
        "\n",
        "angle= 1.57079393\n",
        "print('Initial angle in radius:',angle)\n",
        "\n",
        "angle_degree=np.degrees(angle)  #convet radius into degree\n",
        "print('Angle in degree:',angle_degree)\n",
        "\n",
        "angle_radian = np.radians(angle_degree) #back to radian\n",
        "print('Angle in radian afetr conversion:',angle_radian)\n",
        "\n"
      ],
      "metadata": {
        "colab": {
          "base_uri": "https://localhost:8080/"
        },
        "id": "4pngezM4RBb5",
        "outputId": "94723d6b-633e-4b13-d2e1-f309e7c9f16a"
      },
      "execution_count": null,
      "outputs": [
        {
          "output_type": "stream",
          "name": "stdout",
          "text": [
            "Initial angle in radius: 1.57079393\n",
            "Angle in degree: 89.99986267376806\n",
            "Angle in radian afetr conversion: 1.57079393\n"
          ]
        }
      ]
    },
    {
      "cell_type": "code",
      "source": [
        "#Arithmetic Functions are over previously\n",
        "# Rounding FUnctions\n",
        "# round() , floor() , ciel()\n",
        "import numpy as np\n",
        "\n",
        "numbers = np.array([1.23456,2.34567,3.4567,4.5678])\n",
        "round= np.round(numbers,3) # based on number given decimals are shown\n",
        "print(round)\n",
        "floor=np.floor(numbers)\n",
        "print('floor:',floor)\n",
        "ciel=np.ceil(numbers)\n",
        "print('ceill:',ciel)"
      ],
      "metadata": {
        "colab": {
          "base_uri": "https://localhost:8080/"
        },
        "id": "HZpdZvgGRLKL",
        "outputId": "532b558f-e3fb-4ad2-e964-9c921e4ac076"
      },
      "execution_count": null,
      "outputs": [
        {
          "output_type": "stream",
          "name": "stdout",
          "text": [
            "[1.235 2.346 3.457 4.568]\n",
            "floor: [1. 2. 3. 4.]\n",
            "ceill: [2. 3. 4. 5.]\n"
          ]
        }
      ]
    },
    {
      "cell_type": "code",
      "source": [
        "# numpy Constants\n",
        "# numPy constants are the predefined fixed values used for mathematical calculations.\n",
        "import numpy as np\n",
        "radius=2\n",
        "circum=2*np.pi*radius\n",
        "print(circum)\n",
        "print('Pi value:',np.pi) # gives pi value\n",
        "print('e value',np.e)  # gives e value"
      ],
      "metadata": {
        "colab": {
          "base_uri": "https://localhost:8080/"
        },
        "id": "Lqk_J7qEUcmy",
        "outputId": "688685cd-1d21-49cb-90f6-293560251495"
      },
      "execution_count": null,
      "outputs": [
        {
          "output_type": "stream",
          "name": "stdout",
          "text": [
            "12.566370614359172\n",
            "Pi value: 3.141592653589793\n",
            "e value 2.718281828459045\n"
          ]
        }
      ]
    },
    {
      "cell_type": "code",
      "source": [
        "# NumPy String Functions\n",
        "'''In addition to NumPy's numerical capabilities, it also provides several\n",
        "functions that can be applied to strings represented in NumPy arrays.'''\n",
        "import numpy as np\n",
        "\n",
        "arr1=np.array(['i phone:','price:'])\n",
        "arr2=np.array(['15','₹ 70000'])\n",
        "resu=np.char.add(arr1,arr2)  # add() concadenates the string !\n",
        "print(resu)\n",
        "\n",
        "arr3=np.array(['A','B','C'])\n",
        "resu1=np.char.multiply(arr3,3) # multiply() repeats string for no.of times\n",
        "print(resu1)\n",
        "\n",
        "arr4=np.array(['spider','ant','centipide'])\n",
        "cap=np.char.capitalize(arr4)  #capitalize() makes first letter of string captial\n",
        "print(cap)\n",
        "\n",
        "print('lower():',np.char.lower(arr3)) #lower() coverts into small letters\n",
        "print('upper():',np.char.upper(arr4)) #upper() converts into captial letters\n",
        "print('join():',np.char.join('-',arr4)) #join() join string with smtg we mention\n",
        "print('equal()',np.char.equal(arr3,arr4))# just like equal() before!\n"
      ],
      "metadata": {
        "id": "HTnzBY0EapVv",
        "colab": {
          "base_uri": "https://localhost:8080/"
        },
        "outputId": "8d685b02-0331-475c-997f-ce1ec3f6b82e"
      },
      "execution_count": null,
      "outputs": [
        {
          "output_type": "stream",
          "name": "stdout",
          "text": [
            "['i phone:15' 'price:₹ 70000']\n",
            "['AAA' 'BBB' 'CCC']\n",
            "['Spider' 'Ant' 'Centipide']\n",
            "lower(): ['a' 'b' 'c']\n",
            "upper(): ['SPIDER' 'ANT' 'CENTIPIDE']\n",
            "join(): ['s-p-i-d-e-r' 'a-n-t' 'c-e-n-t-i-p-i-d-e']\n",
            "equal() [False False False]\n"
          ]
        }
      ]
    },
    {
      "cell_type": "code",
      "source": [
        "#numpy Broadcasting\n",
        "'''n NumPy, we can perform mathematical operations on arrays of different shapes\n",
        "An array with a smaller shape is expanded to match the shape of a larger one.\n",
        "This is called broadcasting.'''\n",
        "import numpy as np\n",
        "\n",
        "arr1=np.array([1,2,3])\n",
        "arr2=np.array([[1],[2],[3]])\n",
        "result=arr1+arr2\n",
        "print(result)\n",
        "\n",
        "# Broadcasting with Scalars\n",
        "numbers=5 #scalar\n",
        "sum=arr1+numbers\n",
        "print(sum)\n"
      ],
      "metadata": {
        "id": "w5BKGEoRZ1kG",
        "colab": {
          "base_uri": "https://localhost:8080/"
        },
        "outputId": "faf7d56f-176f-4a6a-a69d-f52c38683761"
      },
      "execution_count": null,
      "outputs": [
        {
          "output_type": "stream",
          "name": "stdout",
          "text": [
            "[[2 3 4]\n",
            " [3 4 5]\n",
            " [4 5 6]]\n",
            "[6 7 8]\n"
          ]
        }
      ]
    },
    {
      "cell_type": "code",
      "source": [
        "# NumPy Matrix Operations\n",
        "import numpy as np\n",
        "\n",
        "matrix1=np.array([[1,2], #create 2x2 matrix\n",
        "                  [4,5]])\n",
        "print('2 x 2 matrix:\\n',matrix1)\n",
        "\n",
        "matrix2=np.array([[1,2,3],  #3x3 matrix\n",
        "                 [4,5,6],\n",
        "                 [7,8,9]])\n",
        "print('\\n3 x 3 matrix:\\n',matrix2)\n",
        "\n",
        "mul=np.multiply(matrix2,matrix2) # this is multiplication\n",
        "print('\\nnormal multiplication: \\n',mul)\n",
        "\n",
        "mat_mul=np.dot(matrix2,matrix2) # this is MATRIX MULTIPLICATION\n",
        "print('\\nmatrix multiplication: \\n',mat_mul)\n",
        "\n",
        "tran=np.transpose(matrix2)      # transpose,inversion rows to coulmn vise versa\n",
        "print('\\ntranspose of matrix 2:\\n',matrix2,'\\ninto\\n',tran)\n",
        "\n",
        "inv=np.linalg.inv(matrix1)  #inverse of the matrix\n",
        "'''In NumPy, we use the np.linalg.inv() function to calculate the inverse of\n",
        "the given matrix.However, it is important to note that not all matrices\n",
        "have an inverse. Only square matrices that have a non-zero determinant have\n",
        "an inverse.'''\n",
        "print('\\n',matrix2)\n",
        "\n",
        "det=np.linalg.det(matrix1)  # Determinant of matrix\n",
        "\n",
        "'''Suppose we have a 2x2 matrix A:\n",
        "a b\n",
        "c d\n",
        "So, the determinant of a 2x2 matrix will be:\n",
        "det(A) = ad - bc'''\n",
        "\n",
        "print('\\nDeterminant of matrix2 :\\n',det)\n",
        "\n",
        "flat=matrix2.flatten()  # Flattens  dimensional array to linear array\n",
        "print('\\n3x3 into single array: \\n',flat)\n",
        "\n",
        "\n"
      ],
      "metadata": {
        "colab": {
          "base_uri": "https://localhost:8080/"
        },
        "id": "gy_SzA9mK0BV",
        "outputId": "8261f28e-c573-43ec-eaf1-872ae54b9d60"
      },
      "execution_count": null,
      "outputs": [
        {
          "output_type": "stream",
          "name": "stdout",
          "text": [
            "2 x 2 matrix:\n",
            " [[1 2]\n",
            " [4 5]]\n",
            "\n",
            "3 x 3 matrix:\n",
            " [[1 2 3]\n",
            " [4 5 6]\n",
            " [7 8 9]]\n",
            "\n",
            "normal multiplication: \n",
            " [[ 1  4  9]\n",
            " [16 25 36]\n",
            " [49 64 81]]\n",
            "\n",
            "matrix multiplication: \n",
            " [[ 30  36  42]\n",
            " [ 66  81  96]\n",
            " [102 126 150]]\n",
            "\n",
            "transpose of matrix 2:\n",
            " [[1 2 3]\n",
            " [4 5 6]\n",
            " [7 8 9]] \n",
            "into\n",
            " [[1 4 7]\n",
            " [2 5 8]\n",
            " [3 6 9]]\n",
            "\n",
            " [[1 2 3]\n",
            " [4 5 6]\n",
            " [7 8 9]]\n",
            "\n",
            "Determinant of matrix2 :\n",
            " -2.9999999999999996\n",
            "\n",
            "3x3 into single array: \n",
            " [1 2 3 4 5 6 7 8 9]\n"
          ]
        }
      ]
    },
    {
      "cell_type": "code",
      "source": [
        "# NumPy Set Operations\n",
        "'''A set is a collection of unique data. That is, elements of a set cannot\n",
        " be repeated.'''\n",
        "import numpy as np\n",
        "A = np.array([1,2,3,4])\n",
        "B = np.array([5,6,7,8])\n",
        "\n",
        "union=np.union1d(A,B)  #union of A U B --> union1d()\n",
        "print(union)\n",
        "\n",
        "inter=np.intersect1d(A,B) #intersection A ⋂ B --> intersect1d()\n",
        "print(inter)\n",
        "\n",
        "diff=np.setdiff1d(A,B) #set diffrence of A - B-->setdiff1d()\n",
        "print(diff)\n",
        "\n",
        "sym_diff=np.setxor1d(A,B) #symmentric diffrence of A and B-->setxor1d()\n",
        "print(sym_diff) #elements which are same in both sets gonna be ignored\n",
        "\n",
        "unq=np.unique(A) # ignores the repeated give unq values-->unique()\n",
        "print(unq)\n"
      ],
      "metadata": {
        "colab": {
          "base_uri": "https://localhost:8080/"
        },
        "id": "nyr-IWzeUKam",
        "outputId": "bd886930-6346-4225-883f-7fb8f41c482f"
      },
      "execution_count": null,
      "outputs": [
        {
          "output_type": "stream",
          "name": "stdout",
          "text": [
            "[1 2 3 4 5 6 7 8]\n",
            "[]\n",
            "[1 2 3 4]\n",
            "[1 2 3 4 5 6 7 8]\n"
          ]
        }
      ]
    },
    {
      "cell_type": "code",
      "source": [
        "# NumPy Vectorization\n",
        "'''NumPy vectorization involves performing mathematical operations on entire\n",
        " arrays, eliminating the need to loop through individual elements.'''\n",
        "import numpy as np\n",
        "arr1=np.array([1,2,3,4,5]) # eliminates use of looping!\n",
        "num = 5\n",
        "result= arr1 + num\n",
        "print(result)\n",
        "\n",
        "array1 = np.array([[1, 2, 3], [4, 5, 6]])\n",
        "array2 = np.array([[0, 1, 2], [0, 1, 2]])\n",
        "\n",
        "# add two arrays (vectorization)\n",
        "array_sum = array1 + array2\n",
        "\n",
        "print(\"Sum between two arrays:\\n\", array_sum)\n",
        "\n",
        "# NumPy Vectorization Vs Python for Loop\n",
        "# Python for loop\n",
        "import time\n",
        "start=time.time()\n",
        "arr1=[1,2,3,4,5]\n",
        "for i in range(len(arr1)):\n",
        "  arr1[i]+=10\n",
        "\n",
        "end=time.time()\n",
        "\n",
        "print('loop time',end-start)\n",
        "\n",
        "# NumPy Vectorization\n",
        "import numpy as np\n",
        "import time\n",
        "start = time.time()\n",
        "array1 = np.array([1, 2, 3, 4, 5 ])\n",
        "result = array1 + 10\n",
        "end = time.time()\n",
        "print(\"Vectorization time:\", end - start)\n",
        "\n"
      ],
      "metadata": {
        "colab": {
          "base_uri": "https://localhost:8080/"
        },
        "id": "zm_AtehmXoGu",
        "outputId": "7b7b0929-16ae-443e-9936-35b9e066635e"
      },
      "execution_count": null,
      "outputs": [
        {
          "output_type": "stream",
          "name": "stdout",
          "text": [
            "[ 6  7  8  9 10]\n",
            "Sum between two arrays:\n",
            " [[1 3 5]\n",
            " [4 6 8]]\n",
            "loop time 0.00023508071899414062\n",
            "Vectorization time: 0.00022864341735839844\n"
          ]
        }
      ]
    },
    {
      "cell_type": "code",
      "source": [
        "#NumPy Boolean Indexing\n",
        "import numpy as np\n",
        "arr1=np.array([1,2,3,4,4,5,5,6,6,7,8,8])\n",
        "bool_mask=arr1%2 != 0  # we get maskinf boolean values\n",
        "print(bool_mask)\n",
        "\n",
        "res=arr1[bool_mask] # gives odd number\n",
        "print(res)\n",
        "\n",
        "# Modify Elements Using Boolean Indexing\n",
        "arr1_copy=arr1.copy() # create copy of array\n",
        "arr1_copy[arr1%2==0]=9 # all divided will be modified as 9\n",
        "print(arr1_copy)\n",
        "\n",
        "# '' same goes for 2D arrays...''\n"
      ],
      "metadata": {
        "colab": {
          "base_uri": "https://localhost:8080/"
        },
        "id": "Ejscnhezf-X8",
        "outputId": "1f1b1bbf-2849-41fa-98e0-68d3762aa3ea"
      },
      "execution_count": null,
      "outputs": [
        {
          "output_type": "stream",
          "name": "stdout",
          "text": [
            "[ True False  True False False  True  True False False  True False False]\n",
            "[1 3 5 5 7]\n",
            "[1 9 3 9 9 5 5 9 9 7 9 9]\n"
          ]
        }
      ]
    },
    {
      "cell_type": "code",
      "source": [
        "# Numpy Random\n",
        "'''In NumPy, we have a module called random which provides functions for\n",
        "generating random numbers.'''\n",
        "# Generate Random Integer in NumPy\n",
        "import numpy as np\n",
        "\n",
        "rand=np.random.randint(0,10) # generates single random value\n",
        "print(rand)\n",
        "\n",
        "int_arr=np.random.randint(0,10,5)\n",
        "print('\\n1D random array:\\n ',int_arr)\n",
        "\n",
        "float_arr=np.random.rand(5)  #elemnts in float\n",
        "print('\\n float array:',float_arr)\n",
        "\n",
        "result=np.random.randint(0,10, (3,4)) # 2D array with random elements\n",
        "print(result)\n",
        "\n",
        "# Choose Random Number from NumPy Array\n",
        "\n",
        "arr2=np.array([1,2,3,4,5,7,8,9]) # generates random element from array\n",
        "random=np.random.choice(arr2)\n",
        "print(random)"
      ],
      "metadata": {
        "colab": {
          "base_uri": "https://localhost:8080/"
        },
        "id": "zHFXjWw3liBL",
        "outputId": "1b133a85-9611-44e0-a76c-f324d4fc1d2c"
      },
      "execution_count": null,
      "outputs": [
        {
          "output_type": "stream",
          "name": "stdout",
          "text": [
            "4\n",
            "\n",
            "1D random array:\n",
            "  [9 9 8 2 6]\n",
            "\n",
            " float array: [0.26238621 0.34533376 0.07822852 0.1644584  0.0087564 ]\n",
            "[[6 1 6 9]\n",
            " [7 7 1 2]\n",
            " [2 1 7 9]]\n",
            "5\n"
          ]
        }
      ]
    },
    {
      "cell_type": "code",
      "source": [
        "# Numpy Linear Algebra\n",
        "import numpy as np\n",
        "array=np.array([[1,2,3],\n",
        "               [6,7,8],\n",
        "               [5,0,9]])\n",
        "print('array:\\n',array)\n",
        "\n",
        "dot=np.dot(array,array)  # dot multiplication\n",
        "print('\\n',dot)\n",
        "\n",
        "inner=np.inner(array,array) # inner product\n",
        "print('\\n',inner)\n",
        "\n",
        "outer=np.outer(array,array) #outer product posible pairs get producted !\n",
        "print('\\n',outer)\n",
        "\n",
        "det=np.linalg.det(array) # determinent of the matrix\n",
        "print('\\n',det)\n",
        "\n",
        "solve=np.linalg.solve(array,array) # solve the system of linear equations Ax = b\n",
        "print(solve)\n",
        "\n",
        "trace=np.trace(array) # Trace = sum of dialgonal elements\n",
        "print('\\n',trace)\n",
        "\n",
        "\n"
      ],
      "metadata": {
        "colab": {
          "base_uri": "https://localhost:8080/"
        },
        "id": "Wej4zxhlxH7Z",
        "outputId": "dfda0a5c-f293-47a5-b9fe-fe543f7cafb2"
      },
      "execution_count": null,
      "outputs": [
        {
          "output_type": "stream",
          "name": "stdout",
          "text": [
            "array:\n",
            " [[1 2 3]\n",
            " [6 7 8]\n",
            " [5 0 9]]\n",
            "\n",
            " [[ 28  16  46]\n",
            " [ 88  61 146]\n",
            " [ 50  10  96]]\n",
            "\n",
            " [[ 14  44  32]\n",
            " [ 44 149 102]\n",
            " [ 32 102 106]]\n",
            "\n",
            " [[ 1  2  3  6  7  8  5  0  9]\n",
            " [ 2  4  6 12 14 16 10  0 18]\n",
            " [ 3  6  9 18 21 24 15  0 27]\n",
            " [ 6 12 18 36 42 48 30  0 54]\n",
            " [ 7 14 21 42 49 56 35  0 63]\n",
            " [ 8 16 24 48 56 64 40  0 72]\n",
            " [ 5 10 15 30 35 40 25  0 45]\n",
            " [ 0  0  0  0  0  0  0  0  0]\n",
            " [ 9 18 27 54 63 72 45  0 81]]\n",
            "\n",
            " -69.99999999999996\n",
            "[[ 1.  0.  0.]\n",
            " [-0.  1. -0.]\n",
            " [ 0.  0.  1.]]\n",
            "\n",
            " 17\n"
          ]
        }
      ]
    },
    {
      "cell_type": "markdown",
      "source": [
        "### NumPy histograms is a graphical representation of the distribution of numerical data. Using functions like histogram() and plt(), we can create and plot histograms."
      ],
      "metadata": {
        "id": "OoAxIOoo18x1"
      }
    },
    {
      "cell_type": "code",
      "source": [
        "# NumPy Histogram\n",
        "# Terminolgies--> bin : range of values or intervals\n",
        "import numpy as np\n",
        "\n",
        "data=np.array([9,1,27,36,45,54]) # array of elements\n",
        "bin=[0,10,20,30,40]   # bin of intervals\n",
        "graph=np.histogram(data,bin) # histogram()--->for graphs\n",
        "print(graph)\n",
        "\n",
        "'''The histogram() function returns a tuple containing two arrays:\n",
        "the first array contains the frequency counts of the data within each bin, and\n",
        "the second array contains the bin edges'''\n",
        "\n"
      ],
      "metadata": {
        "colab": {
          "base_uri": "https://localhost:8080/",
          "height": 87
        },
        "id": "wyvyWbkn1nEd",
        "outputId": "d77f0879-341e-460b-b2e4-c143897c5089"
      },
      "execution_count": null,
      "outputs": [
        {
          "output_type": "stream",
          "name": "stdout",
          "text": [
            "(array([2, 0, 1, 1]), array([ 0, 10, 20, 30, 40]))\n"
          ]
        },
        {
          "output_type": "execute_result",
          "data": {
            "text/plain": [
              "'The histogram() function returns a tuple containing two arrays:\\nthe first array contains the frequency counts of the data within each bin, and\\nthe second array contains the bin edges'"
            ],
            "application/vnd.google.colaboratory.intrinsic+json": {
              "type": "string"
            }
          },
          "metadata": {},
          "execution_count": 16
        }
      ]
    },
    {
      "cell_type": "code",
      "source": [
        "# plot histogram\n",
        "''' We can use the plt() function to plot the numerical value returned by\n",
        "the histogram. The plt() is a function provided by Matplotlib.\n",
        "To use plt(), we need to import the Matplotlib.'''\n",
        "import numpy as np\n",
        "from matplotlib import pyplot as plt\n",
        "\n",
        "data=np.array([5,34,46,80,90,78]) # array of data\n",
        "bin=[0,30,60,100]                 # intervals\n",
        "graph=np.histogram(data,bin)      # histogram()\n",
        "print(graph)\n",
        "plt.hist(data,bin)                # plt.hst()--->plotting graph\n",
        "plt.show()"
      ],
      "metadata": {
        "colab": {
          "base_uri": "https://localhost:8080/",
          "height": 447
        },
        "id": "DBbELc7u5s9G",
        "outputId": "a3e90c43-889a-47e6-9d8f-0418a3050457"
      },
      "execution_count": null,
      "outputs": [
        {
          "output_type": "stream",
          "name": "stdout",
          "text": [
            "(array([1, 2, 3]), array([  0,  30,  60, 100]))\n"
          ]
        },
        {
          "output_type": "display_data",
          "data": {
            "text/plain": [
              "<Figure size 640x480 with 1 Axes>"
            ],
            "image/png": "[encoded data removed]"
          },
          "metadata": {}
        }
      ]
    },
    {
      "cell_type": "code",
      "source": [
        "import numpy as np\n",
        "from matplotlib import pyplot as plt\n",
        "\n",
        "arr=np.array([2,9,16,25,36,49,64,72,90,110,131])\n",
        "interval=[0,15,45,75,105,135]\n",
        "graph=np.histogram(arr,interval)\n",
        "print(graph)\n",
        "plt.hist(graph,bin)\n",
        "plt.show()"
      ],
      "metadata": {
        "colab": {
          "base_uri": "https://localhost:8080/",
          "height": 447
        },
        "id": "esyqOVW18D_p",
        "outputId": "e6766de0-6dab-4fbe-d42c-6ab6a259f447"
      },
      "execution_count": null,
      "outputs": [
        {
          "output_type": "stream",
          "name": "stdout",
          "text": [
            "(array([2, 3, 3, 1, 2]), array([  0,  15,  45,  75, 105, 135]))\n"
          ]
        },
        {
          "output_type": "display_data",
          "data": {
            "text/plain": [
              "<Figure size 640x480 with 1 Axes>"
            ],
            "image/png": "[encoded data removed]"
          },
          "metadata": {}
        }
      ]
    },
    {
      "cell_type": "code",
      "source": [
        "# NumPy Interpolation\n",
        "'''In NumPy, interpolation estimates the value of a function at points\n",
        "where the value is not known.'''\n"
      ],
      "metadata": {
        "id": "9bDE0ZBR-Blv"
      },
      "execution_count": null,
      "outputs": []
    },
    {
      "cell_type": "markdown",
      "source": [
        "Let's suppose we have two arrays: day representing the day of the week and gold_price representing the price of gold per gram.\n",
        "\n",
        "day = np.array([2, 4, 7])\n",
        "gold_price = np.array([55, 58, 65])\n",
        "With the given data set, we can say the price of the gold on day 2 is 55. But we do not know the price of gold on day 3.\n",
        "\n",
        "In such a case, we use interpolation to estimate the price of the gold at any day within the data points."
      ],
      "metadata": {
        "id": "vRyrB4IVJMRK"
      }
    },
    {
      "cell_type": "code",
      "source": [
        "#interp()--> function for interpolation\n",
        "import numpy as np\n",
        "\n",
        "day=np.array([2,4,9])\n",
        "gold_price=np.array([55,58,65])\n",
        "day3_value=np.interp(3,day,gold_price) # interpolates the value\n",
        "print(day3_value)\n",
        "\n",
        "inter_values=np.array([1,3,5,6,7,8])\n",
        "wow=np.interp(inter_values,day,gold_price) # interpolating array of values\n",
        "print(wow)"
      ],
      "metadata": {
        "colab": {
          "base_uri": "https://localhost:8080/"
        },
        "id": "nCam2XD5JYLS",
        "outputId": "dae57d02-f649-41dc-947c-0826413b80ee"
      },
      "execution_count": null,
      "outputs": [
        {
          "output_type": "stream",
          "name": "stdout",
          "text": [
            "56.5\n",
            "[55.  56.5 59.4 60.8 62.2 63.6]\n"
          ]
        }
      ]
    },
    {
      "cell_type": "code",
      "source": [
        "# Graph the Interpolated Values\n",
        "import numpy as np\n",
        "from matplotlib import pyplot as plt\n",
        "\n",
        "x = np.array([0, 1, 2, 3, 4, 5])\n",
        "y = np.array([0, 3, 4, 5, 7, 8])\n",
        "\n",
        "x_interp = np.linspace(x.min(),x.max(),100) # linspace()--> for evenly numbers to generate!\n",
        "y_interp = np.interp(x_interp,x,y)\n",
        "\n",
        "plt.plot(x,y,'ro')  # 'ro'red dot'\n",
        "plt.plot(x_interp,y_interp,'b-') # 'b-'blue,line'\n",
        "plt.show()\n",
        "\n"
      ],
      "metadata": {
        "id": "tSGeRCUdRa51",
        "colab": {
          "base_uri": "https://localhost:8080/",
          "height": 430
        },
        "outputId": "2656dd07-6e2c-4ca6-a982-c086a3b0b9e5"
      },
      "execution_count": null,
      "outputs": [
        {
          "output_type": "display_data",
          "data": {
            "text/plain": [
              "<Figure size 640x480 with 1 Axes>"
            ],
            "image/png": "[encoded data removed]"
          },
          "metadata": {}
        }
      ]
    },
    {
      "cell_type": "code",
      "source": [
        "# example\n",
        "import numpy as np\n",
        "from matplotlib import pyplot as plt\n",
        "x = np.array([1, 2, 3, 4, 5, 6, 7])\n",
        "y = np.array([2, 3, 4, 6, 8, 7, 9])\n",
        "\n",
        "x_interp= np.linspace(x.min(),x.max(),100)\n",
        "y_interp= np.interp(x_interp,x,y)\n",
        "\n",
        "plt.plot(x,y,'o')\n",
        "plt.plot(x_interp,y_interp,'g-')\n",
        "plt.show()\n"
      ],
      "metadata": {
        "colab": {
          "base_uri": "https://localhost:8080/",
          "height": 430
        },
        "id": "SVODq1XoXG06",
        "outputId": "149f0577-b6d7-447d-a705-9432deb2df72"
      },
      "execution_count": null,
      "outputs": [
        {
          "output_type": "display_data",
          "data": {
            "text/plain": [
              "<Figure size 640x480 with 1 Axes>"
            ],
            "image/png": "[encoded data removed]"
          },
          "metadata": {}
        }
      ]
    },
    {
      "cell_type": "code",
      "source": [
        "# NumPy Files\n",
        "# A file is a container in computer storage devices used for storing data.\n",
        "# save()-->function ; syntax-->np.save(file,array) ; np.load()-->to load data\n",
        "# file - specifies the file name (along with path if required)\n",
        "# array - specifies the NumPy array to save\n",
        "import numpy as np\n",
        "arr1=np.array([[2,3,4],\n",
        "              [7,8,9]])\n",
        "\n",
        "np.save('file1.npy',arr1)"
      ],
      "metadata": {
        "id": "PZR7gkhdaXSp"
      },
      "execution_count": null,
      "outputs": []
    },
    {
      "cell_type": "code",
      "source": [
        "load=np.load('file1.npy') #imported for file!\n",
        "print(load)"
      ],
      "metadata": {
        "colab": {
          "base_uri": "https://localhost:8080/"
        },
        "id": "Atn__AzH6tpA",
        "outputId": "47f7eef5-c4c4-4e62-a57b-897faafc67d4"
      },
      "execution_count": null,
      "outputs": [
        {
          "output_type": "stream",
          "name": "stdout",
          "text": [
            "[[2 3 4]\n",
            " [7 8 9]]\n"
          ]
        }
      ]
    },
    {
      "cell_type": "code",
      "source": [
        "# Save Multiple NumPy Array File\n",
        "# To save multiple NumPy arrays into a single file we use the savez() function.\n",
        "# syntax--->np.savez(file,*args,**kwds)\n",
        "# file - name of the file where the arrays will be saved\n",
        "# *args - list of arrays to be saved (comma-separated)\n",
        "# **kwds - keyword arguments to give custom names of the files to be saved\n",
        "import numpy as np\n",
        "arr1=np.array([1,2,3,4,5])\n",
        "arr2=np.array([5,6,7,8,9])\n",
        "\n",
        "np.savez('qwerty.npz',file3=arr1,file2=arr2)\n"
      ],
      "metadata": {
        "id": "4DS0EUcK7BL9"
      },
      "execution_count": null,
      "outputs": []
    },
    {
      "cell_type": "code",
      "source": [
        "# load the saved arrays\n",
        "loaded=np.load('qwerty.npz')\n",
        "# retrieve the arrays using thier names\n",
        "arr1=loaded['file3']\n",
        "arr2=loaded['file2']\n",
        "\n",
        "print(arr1)\n",
        "print(arr2)\n"
      ],
      "metadata": {
        "colab": {
          "base_uri": "https://localhost:8080/"
        },
        "id": "cYvr_xaa9AGw",
        "outputId": "0f2e3f20-beba-47f1-f869-6d92411782a7"
      },
      "execution_count": null,
      "outputs": [
        {
          "output_type": "stream",
          "name": "stdout",
          "text": [
            "[1 2 3 4 5]\n",
            "[5 6 7 8 9]\n"
          ]
        }
      ]
    },
    {
      "cell_type": "code",
      "source": [
        "# Numpy Error Handling\n",
        "'''NumPy try-catch Block\n",
        "We can use the try...except block in NumPy to handle an error.\n",
        "Here's the syntax of try...except:\n",
        "\n",
        "try:\n",
        "    # code that may cause exception\n",
        "except:\n",
        "    # code to run when exception occurs\n",
        "\n",
        "Here, we have placed the code that could potentially raise an exception\n",
        "within the try block. When an exception occurs in the try block,\n",
        "it's caught by the except block.\n",
        "\n",
        "The try and except block must work together to handle the exception.\n",
        "\n",
        "Let's see an example.'''\n",
        "\n",
        "import numpy as np\n",
        "\n",
        "array1 = np.array([1, 4, 3])\n",
        "array2 = np.array([0, 2, 0])\n",
        "\n",
        "# try to divide the arrays\n",
        "try:\n",
        "    result = array1/array2\n",
        "\n",
        "except ZeroDivisionError as e:\n",
        "    print(\"Error: Cannot divide by zero\")\n"
      ],
      "metadata": {
        "id": "GoQq0MAW_3Vd",
        "colab": {
          "base_uri": "https://localhost:8080/"
        },
        "outputId": "bfe47500-6cc7-451d-9721-eaa6f89c9d9d"
      },
      "execution_count": 1,
      "outputs": [
        {
          "output_type": "stream",
          "name": "stderr",
          "text": [
            "<ipython-input-1-c3668f0d9e55>:26: RuntimeWarning: divide by zero encountered in divide\n",
            "  result = array1/array2\n"
          ]
        }
      ]
    },
    {
      "cell_type": "code",
      "source": [
        "# NumPy Date and Time\n",
        "# datetime64()--> stores date and time !\n",
        "import numpy as np\n",
        "result=np.datetime64('now')  #date and time\n",
        "print('currents date and time :')\n",
        "print(result)\n",
        "\n",
        "result2=np.datetime64('now','D') # date\n",
        "print(result2)\n",
        "\n",
        "# use datetime64() for different time units\n",
        "year = np.datetime64('2023', 'Y')\n",
        "month = np.datetime64('2023-04', 'M')\n",
        "day = np.datetime64('2023-04-29', 'D')\n",
        "hour = np.datetime64('2023-04-29T10', 'h')\n",
        "minute = np.datetime64('2023-04-29T10:30', 'm')\n",
        "second = np.datetime64('2023-04-29T10:30:15', 's')\n",
        "print(\"Year: \", year)\n",
        "print(\"Month: \", month)\n",
        "print(\"Day: \", day)\n",
        "print(\"Hour: \", hour)\n",
        "print(\"Minute: \", minute)\n",
        "print(\"Second: \", second)"
      ],
      "metadata": {
        "colab": {
          "base_uri": "https://localhost:8080/"
        },
        "id": "rqWwH6rwABq_",
        "outputId": "27ee3e44-2bbf-4263-b30f-e4ec5577401b"
      },
      "execution_count": 11,
      "outputs": [
        {
          "output_type": "stream",
          "name": "stdout",
          "text": [
            "currents date and time :\n",
            "2023-09-16T08:05:36\n",
            "2023-09-16\n",
            "Year:  2023\n",
            "Month:  2023-04\n",
            "Day:  2023-04-29\n",
            "Hour:  2023-04-29T10\n",
            "Minute:  2023-04-29T10:30\n",
            "Second:  2023-04-29T10:30:15\n"
          ]
        }
      ]
    },
    {
      "cell_type": "code",
      "source": [
        "# NumPy Data Visualization\n",
        "'''NumPy provides several techniques for data visualization like line plots,\n",
        "scatter plots, bar graphs, and histograms. Data visualization allows us to have\n",
        "a visual representation of large amounts of data quickly and efficiently.'''\n"
      ],
      "metadata": {
        "id": "g_96qJ_rBwhq"
      },
      "execution_count": null,
      "outputs": []
    },
    {
      "cell_type": "markdown",
      "source": [
        "We'll be using the dataset of cars to visualize data.\n",
        "\n",
        "Car :\tWeight\n",
        "\n",
        "Caterham\t : 0.48 tons\n",
        "\n",
        "Tesla\t: 1.7 tons\n",
        "\n",
        "Audi \t:  2 tons\n",
        "\n",
        "BMW\t:  2 tons\n",
        "\n",
        "Ford\t:  2.5 tons\n",
        "\n",
        "Jeep\t:  3 tons\n"
      ],
      "metadata": {
        "id": "u0-s2LXpClg0"
      }
    },
    {
      "cell_type": "code",
      "source": [
        "#Line Plot For Data Visualization\n",
        "import numpy as np\n",
        "from matplotlib import pyplot as plt\n",
        "\n",
        "car=np.array(['Caterham','Tesla','Audi','BMW','Ford','Jeep'])\n",
        "weight=np.array([0.48, 1.7, 2, 2, 2.3, 3])\n",
        "\n",
        "plt.plot(car,weight)\n",
        "plt.show()"
      ],
      "metadata": {
        "colab": {
          "base_uri": "https://localhost:8080/",
          "height": 430
        },
        "id": "JfHxCc1cDG21",
        "outputId": "60db780a-9fbc-42cf-bce7-decb4819f24e"
      },
      "execution_count": 18,
      "outputs": [
        {
          "output_type": "display_data",
          "data": {
            "text/plain": [
              "<Figure size 640x480 with 1 Axes>"
            ],
            "image/png": "[encoded data removed]"
          },
          "metadata": {}
        }
      ]
    },
    {
      "cell_type": "code",
      "source": [
        "# Scatter Plots For Data Visualization\n",
        "import numpy as np\n",
        "from matplotlib import pyplot as plt\n",
        "car = np.array([\"Caterham\", \"Tesla\", \"Audi\",  \"BMW\", \"Ford\", \"Jeep\"])\n",
        "weight = np.array([0.48, 1.7, 2, 2, 2.3, 3 ])\n",
        "\n",
        "plt.scatter(car,weight,)   # scatter()-->function\n",
        "plt.show()\n"
      ],
      "metadata": {
        "colab": {
          "base_uri": "https://localhost:8080/",
          "height": 430
        },
        "id": "n9_G5S-tEXIj",
        "outputId": "df426eb0-cc90-418f-c42b-a4b7e85b8a43"
      },
      "execution_count": 24,
      "outputs": [
        {
          "output_type": "display_data",
          "data": {
            "text/plain": [
              "<Figure size 640x480 with 1 Axes>"
            ],
            "image/png": "[encoded data removed]"
          },
          "metadata": {}
        }
      ]
    },
    {
      "cell_type": "code",
      "source": [
        "# Bar Graphs For Data Visualization\n",
        "import matplotlib.pyplot as plt\n",
        "import numpy as np\n",
        "\n",
        "car = np.array([\"Caterham\", \"Tesla\", \"Audi\",  \"BMW\", \"Ford\", \"Jeep\"])\n",
        "weight = np.array([0.48, 1.7, 2, 2, 2.3, 3 ])\n",
        "\n",
        "plt.bar(car,weight)     # bar()--> function\n",
        "plt.title('Bar Graph')\n",
        "plt.show()\n"
      ],
      "metadata": {
        "colab": {
          "base_uri": "https://localhost:8080/",
          "height": 452
        },
        "id": "5u3uLX1GFPGx",
        "outputId": "44ef4d37-42a0-4223-debf-b8c8df1b2e7b"
      },
      "execution_count": 26,
      "outputs": [
        {
          "output_type": "display_data",
          "data": {
            "text/plain": [
              "<Figure size 640x480 with 1 Axes>"
            ],
            "image/png": "[encoded data removed]"
          },
          "metadata": {}
        }
      ]
    },
    {
      "cell_type": "code",
      "source": [
        "# Histograms For Data Visualization\n",
        "import numpy as np\n",
        "import matplotlib.pyplot as plt\n",
        "\n",
        "weight = np.array([0.48, 1.7, 2, 3])\n",
        "\n",
        "plt.hist(weight)  # hist()\n",
        "plt.show()"
      ],
      "metadata": {
        "colab": {
          "base_uri": "https://localhost:8080/",
          "height": 430
        },
        "id": "hty3chnPGPhW",
        "outputId": "859f71e4-b6d1-4b10-93c2-a5b626b42aa1"
      },
      "execution_count": 27,
      "outputs": [
        {
          "output_type": "display_data",
          "data": {
            "text/plain": [
              "<Figure size 640x480 with 1 Axes>"
            ],
            "image/png": "[encoded data removed]"
          },
          "metadata": {}
        }
      ]
    }
  ]
}